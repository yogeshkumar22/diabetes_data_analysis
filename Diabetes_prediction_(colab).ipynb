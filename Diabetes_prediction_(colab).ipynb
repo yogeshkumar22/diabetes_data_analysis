{
  "nbformat": 4,
  "nbformat_minor": 0,
  "metadata": {
    "kernelspec": {
      "display_name": "Python 3",
      "language": "python",
      "name": "python3"
    },
    "language_info": {
      "codemirror_mode": {
        "name": "ipython",
        "version": 3
      },
      "file_extension": ".py",
      "mimetype": "text/x-python",
      "name": "python",
      "nbconvert_exporter": "python",
      "pygments_lexer": "ipython3",
      "version": "3.8.5"
    },
    "colab": {
      "name": "Diabetes_prediction (colab).ipynb",
      "provenance": [],
      "include_colab_link": true
    }
  },
  "cells": [
    {
      "cell_type": "markdown",
      "metadata": {
        "id": "view-in-github",
        "colab_type": "text"
      },
      "source": [
        "<a href=\"https://colab.research.google.com/github/yogeshkumar22/diabetes_data_analysis/blob/main/Diabetes_prediction_(colab).ipynb\" target=\"_parent\"><img src=\"https://colab.research.google.com/assets/colab-badge.svg\" alt=\"Open In Colab\"/></a>"
      ]
    },
    {
      "cell_type": "code",
      "metadata": {
        "id": "x0aP2XYelFHs"
      },
      "source": [
        "import pandas as pd\n",
        "import numpy as np\n",
        "from matplotlib import pyplot as plt\n",
        "import seaborn as sns\n",
        "import warnings\n",
        "warnings.filterwarnings('ignore')"
      ],
      "execution_count": 1,
      "outputs": []
    },
    {
      "cell_type": "code",
      "metadata": {
        "colab": {
          "base_uri": "https://localhost:8080/",
          "height": 204
        },
        "id": "AbPV87WKlFH-",
        "outputId": "3934bfa2-218c-4791-8fc4-e406b9fc1a68"
      },
      "source": [
        "df_Pima = pd.read_csv('diabetes.csv')\n",
        "df_Pima.head()"
      ],
      "execution_count": 2,
      "outputs": [
        {
          "output_type": "execute_result",
          "data": {
            "text/html": [
              "<div>\n",
              "<style scoped>\n",
              "    .dataframe tbody tr th:only-of-type {\n",
              "        vertical-align: middle;\n",
              "    }\n",
              "\n",
              "    .dataframe tbody tr th {\n",
              "        vertical-align: top;\n",
              "    }\n",
              "\n",
              "    .dataframe thead th {\n",
              "        text-align: right;\n",
              "    }\n",
              "</style>\n",
              "<table border=\"1\" class=\"dataframe\">\n",
              "  <thead>\n",
              "    <tr style=\"text-align: right;\">\n",
              "      <th></th>\n",
              "      <th>Pregnancies</th>\n",
              "      <th>Glucose</th>\n",
              "      <th>BloodPressure</th>\n",
              "      <th>SkinThickness</th>\n",
              "      <th>Insulin</th>\n",
              "      <th>BMI</th>\n",
              "      <th>DiabetesPedigreeFunction</th>\n",
              "      <th>Age</th>\n",
              "      <th>Outcome</th>\n",
              "    </tr>\n",
              "  </thead>\n",
              "  <tbody>\n",
              "    <tr>\n",
              "      <th>0</th>\n",
              "      <td>6</td>\n",
              "      <td>148</td>\n",
              "      <td>72</td>\n",
              "      <td>35</td>\n",
              "      <td>0</td>\n",
              "      <td>33.6</td>\n",
              "      <td>0.627</td>\n",
              "      <td>50</td>\n",
              "      <td>1</td>\n",
              "    </tr>\n",
              "    <tr>\n",
              "      <th>1</th>\n",
              "      <td>1</td>\n",
              "      <td>85</td>\n",
              "      <td>66</td>\n",
              "      <td>29</td>\n",
              "      <td>0</td>\n",
              "      <td>26.6</td>\n",
              "      <td>0.351</td>\n",
              "      <td>31</td>\n",
              "      <td>0</td>\n",
              "    </tr>\n",
              "    <tr>\n",
              "      <th>2</th>\n",
              "      <td>8</td>\n",
              "      <td>183</td>\n",
              "      <td>64</td>\n",
              "      <td>0</td>\n",
              "      <td>0</td>\n",
              "      <td>23.3</td>\n",
              "      <td>0.672</td>\n",
              "      <td>32</td>\n",
              "      <td>1</td>\n",
              "    </tr>\n",
              "    <tr>\n",
              "      <th>3</th>\n",
              "      <td>1</td>\n",
              "      <td>89</td>\n",
              "      <td>66</td>\n",
              "      <td>23</td>\n",
              "      <td>94</td>\n",
              "      <td>28.1</td>\n",
              "      <td>0.167</td>\n",
              "      <td>21</td>\n",
              "      <td>0</td>\n",
              "    </tr>\n",
              "    <tr>\n",
              "      <th>4</th>\n",
              "      <td>0</td>\n",
              "      <td>137</td>\n",
              "      <td>40</td>\n",
              "      <td>35</td>\n",
              "      <td>168</td>\n",
              "      <td>43.1</td>\n",
              "      <td>2.288</td>\n",
              "      <td>33</td>\n",
              "      <td>1</td>\n",
              "    </tr>\n",
              "  </tbody>\n",
              "</table>\n",
              "</div>"
            ],
            "text/plain": [
              "   Pregnancies  Glucose  BloodPressure  ...  DiabetesPedigreeFunction  Age  Outcome\n",
              "0            6      148             72  ...                     0.627   50        1\n",
              "1            1       85             66  ...                     0.351   31        0\n",
              "2            8      183             64  ...                     0.672   32        1\n",
              "3            1       89             66  ...                     0.167   21        0\n",
              "4            0      137             40  ...                     2.288   33        1\n",
              "\n",
              "[5 rows x 9 columns]"
            ]
          },
          "metadata": {},
          "execution_count": 2
        }
      ]
    },
    {
      "cell_type": "markdown",
      "metadata": {
        "id": "CRx3ujAUlFIG"
      },
      "source": [
        "Importing the CSV file and reviewing the columns. Even with just the few rows visible I noticed there was some rows that had 0 where there should be some data."
      ]
    },
    {
      "cell_type": "code",
      "metadata": {
        "colab": {
          "base_uri": "https://localhost:8080/",
          "height": 317
        },
        "id": "85ZPNSBIlFIN",
        "outputId": "448ba1da-ab5d-44f1-d30c-99881a174dd6"
      },
      "source": [
        "df_Pima.describe()"
      ],
      "execution_count": 3,
      "outputs": [
        {
          "output_type": "execute_result",
          "data": {
            "text/html": [
              "<div>\n",
              "<style scoped>\n",
              "    .dataframe tbody tr th:only-of-type {\n",
              "        vertical-align: middle;\n",
              "    }\n",
              "\n",
              "    .dataframe tbody tr th {\n",
              "        vertical-align: top;\n",
              "    }\n",
              "\n",
              "    .dataframe thead th {\n",
              "        text-align: right;\n",
              "    }\n",
              "</style>\n",
              "<table border=\"1\" class=\"dataframe\">\n",
              "  <thead>\n",
              "    <tr style=\"text-align: right;\">\n",
              "      <th></th>\n",
              "      <th>Pregnancies</th>\n",
              "      <th>Glucose</th>\n",
              "      <th>BloodPressure</th>\n",
              "      <th>SkinThickness</th>\n",
              "      <th>Insulin</th>\n",
              "      <th>BMI</th>\n",
              "      <th>DiabetesPedigreeFunction</th>\n",
              "      <th>Age</th>\n",
              "      <th>Outcome</th>\n",
              "    </tr>\n",
              "  </thead>\n",
              "  <tbody>\n",
              "    <tr>\n",
              "      <th>count</th>\n",
              "      <td>768.000000</td>\n",
              "      <td>768.000000</td>\n",
              "      <td>768.000000</td>\n",
              "      <td>768.000000</td>\n",
              "      <td>768.000000</td>\n",
              "      <td>768.000000</td>\n",
              "      <td>768.000000</td>\n",
              "      <td>768.000000</td>\n",
              "      <td>768.000000</td>\n",
              "    </tr>\n",
              "    <tr>\n",
              "      <th>mean</th>\n",
              "      <td>3.845052</td>\n",
              "      <td>120.894531</td>\n",
              "      <td>69.105469</td>\n",
              "      <td>20.536458</td>\n",
              "      <td>79.799479</td>\n",
              "      <td>31.992578</td>\n",
              "      <td>0.471876</td>\n",
              "      <td>33.240885</td>\n",
              "      <td>0.348958</td>\n",
              "    </tr>\n",
              "    <tr>\n",
              "      <th>std</th>\n",
              "      <td>3.369578</td>\n",
              "      <td>31.972618</td>\n",
              "      <td>19.355807</td>\n",
              "      <td>15.952218</td>\n",
              "      <td>115.244002</td>\n",
              "      <td>7.884160</td>\n",
              "      <td>0.331329</td>\n",
              "      <td>11.760232</td>\n",
              "      <td>0.476951</td>\n",
              "    </tr>\n",
              "    <tr>\n",
              "      <th>min</th>\n",
              "      <td>0.000000</td>\n",
              "      <td>0.000000</td>\n",
              "      <td>0.000000</td>\n",
              "      <td>0.000000</td>\n",
              "      <td>0.000000</td>\n",
              "      <td>0.000000</td>\n",
              "      <td>0.078000</td>\n",
              "      <td>21.000000</td>\n",
              "      <td>0.000000</td>\n",
              "    </tr>\n",
              "    <tr>\n",
              "      <th>25%</th>\n",
              "      <td>1.000000</td>\n",
              "      <td>99.000000</td>\n",
              "      <td>62.000000</td>\n",
              "      <td>0.000000</td>\n",
              "      <td>0.000000</td>\n",
              "      <td>27.300000</td>\n",
              "      <td>0.243750</td>\n",
              "      <td>24.000000</td>\n",
              "      <td>0.000000</td>\n",
              "    </tr>\n",
              "    <tr>\n",
              "      <th>50%</th>\n",
              "      <td>3.000000</td>\n",
              "      <td>117.000000</td>\n",
              "      <td>72.000000</td>\n",
              "      <td>23.000000</td>\n",
              "      <td>30.500000</td>\n",
              "      <td>32.000000</td>\n",
              "      <td>0.372500</td>\n",
              "      <td>29.000000</td>\n",
              "      <td>0.000000</td>\n",
              "    </tr>\n",
              "    <tr>\n",
              "      <th>75%</th>\n",
              "      <td>6.000000</td>\n",
              "      <td>140.250000</td>\n",
              "      <td>80.000000</td>\n",
              "      <td>32.000000</td>\n",
              "      <td>127.250000</td>\n",
              "      <td>36.600000</td>\n",
              "      <td>0.626250</td>\n",
              "      <td>41.000000</td>\n",
              "      <td>1.000000</td>\n",
              "    </tr>\n",
              "    <tr>\n",
              "      <th>max</th>\n",
              "      <td>17.000000</td>\n",
              "      <td>199.000000</td>\n",
              "      <td>122.000000</td>\n",
              "      <td>99.000000</td>\n",
              "      <td>846.000000</td>\n",
              "      <td>67.100000</td>\n",
              "      <td>2.420000</td>\n",
              "      <td>81.000000</td>\n",
              "      <td>1.000000</td>\n",
              "    </tr>\n",
              "  </tbody>\n",
              "</table>\n",
              "</div>"
            ],
            "text/plain": [
              "       Pregnancies     Glucose  ...         Age     Outcome\n",
              "count   768.000000  768.000000  ...  768.000000  768.000000\n",
              "mean      3.845052  120.894531  ...   33.240885    0.348958\n",
              "std       3.369578   31.972618  ...   11.760232    0.476951\n",
              "min       0.000000    0.000000  ...   21.000000    0.000000\n",
              "25%       1.000000   99.000000  ...   24.000000    0.000000\n",
              "50%       3.000000  117.000000  ...   29.000000    0.000000\n",
              "75%       6.000000  140.250000  ...   41.000000    1.000000\n",
              "max      17.000000  199.000000  ...   81.000000    1.000000\n",
              "\n",
              "[8 rows x 9 columns]"
            ]
          },
          "metadata": {},
          "execution_count": 3
        }
      ]
    },
    {
      "cell_type": "markdown",
      "metadata": {
        "id": "rNSuhq-QlFIR"
      },
      "source": [
        "This gives us a review of the data in each column. Again this points to many columns having a minimum value of 0, where it doesn't make sense. Having zero pregnancies makes sense, but having a blood pressure, glucose, insulin, or BMI reading of zero shows we are missing some data. To fix this, we've replaced the 0 in those columns with NaN values to be more accurate."
      ]
    },
    {
      "cell_type": "code",
      "metadata": {
        "id": "lijxf2tjlFIV"
      },
      "source": [
        "df_Pima[['Glucose', 'BloodPressure', 'SkinThickness','Insulin', 'BMI']] = df_Pima[['Glucose', 'BloodPressure', 'SkinThickness', 'Insulin', 'BMI']].replace(0, np.NaN)"
      ],
      "execution_count": 4,
      "outputs": []
    },
    {
      "cell_type": "code",
      "metadata": {
        "colab": {
          "base_uri": "https://localhost:8080/"
        },
        "id": "KnUPACCslFIX",
        "outputId": "a7455f96-22bb-4dd3-cc4d-135efb984072"
      },
      "source": [
        "df_Pima.isna().sum()"
      ],
      "execution_count": 5,
      "outputs": [
        {
          "output_type": "execute_result",
          "data": {
            "text/plain": [
              "Pregnancies                   0\n",
              "Glucose                       5\n",
              "BloodPressure                35\n",
              "SkinThickness               227\n",
              "Insulin                     374\n",
              "BMI                          11\n",
              "DiabetesPedigreeFunction      0\n",
              "Age                           0\n",
              "Outcome                       0\n",
              "dtype: int64"
            ]
          },
          "metadata": {},
          "execution_count": 5
        }
      ]
    },
    {
      "cell_type": "markdown",
      "metadata": {
        "id": "PsRa7iM2lFIZ"
      },
      "source": [
        "Now that we see how much data is missing, We've created a function to find the mean value of each column grouped by the outcome. This will allow us to provide an estimated value for the NaN based on the outcome. "
      ]
    },
    {
      "cell_type": "code",
      "metadata": {
        "id": "_R5ITPJAlFIc"
      },
      "source": [
        "def find_mean(column):\n",
        "    temp = df_Pima[df_Pima[column].notnull()]\n",
        "    temp = df_Pima[[column, 'Outcome']].groupby('Outcome')[[column]].mean().reset_index()\n",
        "    return temp"
      ],
      "execution_count": 6,
      "outputs": []
    },
    {
      "cell_type": "code",
      "metadata": {
        "colab": {
          "base_uri": "https://localhost:8080/"
        },
        "id": "xn_gXOK3lFIh",
        "outputId": "dab46f46-0268-40df-b0b7-8220c1305ccc"
      },
      "source": [
        "print(find_mean('Glucose'))\n",
        "print(find_mean('BloodPressure'))\n",
        "print(find_mean('SkinThickness'))\n",
        "print(find_mean('Insulin'))\n",
        "print(find_mean('BMI'))"
      ],
      "execution_count": 7,
      "outputs": [
        {
          "output_type": "stream",
          "name": "stdout",
          "text": [
            "   Outcome     Glucose\n",
            "0        0  110.643863\n",
            "1        1  142.319549\n",
            "   Outcome  BloodPressure\n",
            "0        0      70.877339\n",
            "1        1      75.321429\n",
            "   Outcome  SkinThickness\n",
            "0        0      27.235457\n",
            "1        1      33.000000\n",
            "   Outcome     Insulin\n",
            "0        0  130.287879\n",
            "1        1  206.846154\n",
            "   Outcome        BMI\n",
            "0        0  30.859674\n",
            "1        1  35.406767\n"
          ]
        }
      ]
    },
    {
      "cell_type": "markdown",
      "metadata": {
        "id": "ax6JoNnKlFIl"
      },
      "source": [
        "Using the information from the find_mean function. We updated the NaN with the mean values."
      ]
    },
    {
      "cell_type": "code",
      "metadata": {
        "id": "RPgUhNEvlFIm"
      },
      "source": [
        "df_Pima.loc[(df_Pima['Outcome'] == 0) & (df_Pima['Glucose'].isnull()), 'Glucose'] = 110.6\n",
        "df_Pima.loc[(df_Pima['Outcome'] == 1) & (df_Pima['Glucose'].isnull()), 'Glucose'] = 169.5\n",
        "df_Pima.loc[(df_Pima['Outcome'] == 0) & (df_Pima['BloodPressure'].isnull()), 'BloodPressure'] = 70.8\n",
        "df_Pima.loc[(df_Pima['Outcome'] == 1) & (df_Pima['BloodPressure'].isnull()), 'BloodPressure'] = 75.3\n",
        "df_Pima.loc[(df_Pima['Outcome'] == 0) & (df_Pima['SkinThickness'].isnull()), 'SkinThickness'] = 27.2\n",
        "df_Pima.loc[(df_Pima['Outcome'] == 1) & (df_Pima['SkinThickness'].isnull()), 'SkinThickness'] = 33.0\n",
        "df_Pima.loc[(df_Pima['Outcome'] == 0) & (df_Pima['Insulin'].isnull()), 'Insulin'] = 130.3\n",
        "df_Pima.loc[(df_Pima['Outcome'] == 1) & (df_Pima['Insulin'].isnull()), 'Insulin'] = 206.8\n",
        "df_Pima.loc[(df_Pima['Outcome'] == 0) & (df_Pima['BMI'].isnull()), 'BMI'] = 30.8\n",
        "df_Pima.loc[(df_Pima['Outcome'] == 1) & (df_Pima['BMI'].isnull()), 'BMI'] = 35.4"
      ],
      "execution_count": 8,
      "outputs": []
    },
    {
      "cell_type": "code",
      "metadata": {
        "colab": {
          "base_uri": "https://localhost:8080/"
        },
        "id": "WILm1TgnlFIo",
        "outputId": "eb9218bd-81a8-4dbf-fdf9-a88445104fc6"
      },
      "source": [
        "df_Pima.isna().sum()"
      ],
      "execution_count": 9,
      "outputs": [
        {
          "output_type": "execute_result",
          "data": {
            "text/plain": [
              "Pregnancies                 0\n",
              "Glucose                     0\n",
              "BloodPressure               0\n",
              "SkinThickness               0\n",
              "Insulin                     0\n",
              "BMI                         0\n",
              "DiabetesPedigreeFunction    0\n",
              "Age                         0\n",
              "Outcome                     0\n",
              "dtype: int64"
            ]
          },
          "metadata": {},
          "execution_count": 9
        }
      ]
    },
    {
      "cell_type": "markdown",
      "metadata": {
        "id": "CE21KA7ilFIq"
      },
      "source": [
        "A quick scatterplot to compare BMI and pregnancies with the outcome added as the hue. Looking to see if there is a correlation. This looks pretty evenly distributed positive (1) results for diabetes, but suggesting there might be something to look at when pregnancies get above 7."
      ]
    },
    {
      "cell_type": "code",
      "metadata": {
        "colab": {
          "base_uri": "https://localhost:8080/",
          "height": 404
        },
        "id": "ZfhIhZU-lFIs",
        "outputId": "267a9e28-ae1e-45f5-d7d7-846b241b6a32"
      },
      "source": [
        "plt.figure(figsize=(10,6))\n",
        "sns.scatterplot(x='Pregnancies', y='BMI', data=df_Pima, hue='Outcome', alpha= 0.7)\n",
        "plt.title('Comparison of BMI and Pregnancies')\n",
        "plt.show()"
      ],
      "execution_count": 10,
      "outputs": [
        {
          "output_type": "display_data",
          "data": {
            "image/png": "[encoded data removed]",
            "text/plain": [
              "<Figure size 720x432 with 1 Axes>"
            ]
          },
          "metadata": {
            "needs_background": "light"
          }
        }
      ]
    },
    {
      "cell_type": "markdown",
      "metadata": {
        "id": "3JzvrzzKlFIu"
      },
      "source": [
        "Another scatterplot, this one show BMI and insulin. It shows insulin counts above 200 resulted in more cases of diabetes."
      ]
    },
    {
      "cell_type": "code",
      "metadata": {
        "colab": {
          "base_uri": "https://localhost:8080/",
          "height": 404
        },
        "id": "CU2F8JGDlFIw",
        "outputId": "7a3f2fe1-bdd3-4539-df9d-18913d678fc8"
      },
      "source": [
        "plt.figure(figsize=(10,6))\n",
        "sns.scatterplot(x='Insulin', y='BMI', data=df_Pima, hue='Outcome', alpha= 0.7)\n",
        "plt.title('Comparison of BMI and Insulin')\n",
        "plt.show()"
      ],
      "execution_count": 11,
      "outputs": [
        {
          "output_type": "display_data",
          "data": {
            "image/png": "[encoded data removed]",
            "text/plain": [
              "<Figure size 720x432 with 1 Axes>"
            ]
          },
          "metadata": {
            "needs_background": "light"
          }
        }
      ]
    },
    {
      "cell_type": "markdown",
      "metadata": {
        "id": "NcEa9piulFIx"
      },
      "source": [
        "A barchart showing the overall count of negative cases (500) and positive cases (268)."
      ]
    },
    {
      "cell_type": "code",
      "metadata": {
        "colab": {
          "base_uri": "https://localhost:8080/",
          "height": 312
        },
        "id": "7TNGsMzYlFIy",
        "outputId": "db2f361d-3b0d-4388-ea2b-66eadbcfb265"
      },
      "source": [
        "plt.title('Count of Positive / Negative Outcome')\n",
        "sns.countplot(data=df_Pima, y= 'Outcome')"
      ],
      "execution_count": 12,
      "outputs": [
        {
          "output_type": "execute_result",
          "data": {
            "text/plain": [
              "<matplotlib.axes._subplots.AxesSubplot at 0x7f4df192b990>"
            ]
          },
          "metadata": {},
          "execution_count": 12
        },
        {
          "output_type": "display_data",
          "data": {
            "image/png": "[encoded data removed]",
            "text/plain": [
              "<Figure size 432x288 with 1 Axes>"
            ]
          },
          "metadata": {
            "needs_background": "light"
          }
        }
      ]
    },
    {
      "cell_type": "markdown",
      "metadata": {
        "id": "EYmEGJTnlFI0"
      },
      "source": [
        "This histogram shows the counts for age with negative cases in blue and positive (diabetic) cases in orange. "
      ]
    },
    {
      "cell_type": "code",
      "metadata": {
        "colab": {
          "base_uri": "https://localhost:8080/",
          "height": 747
        },
        "id": "nm7EGMTulFI1",
        "outputId": "f969479a-e169-47de-8dd3-92ca9694b741"
      },
      "source": [
        "plt.figure(figsize=(10, 12))\n",
        "plt.title('Age count with Positive / Negative Outcome')\n",
        "sns.histplot(data= df_Pima, x='Age', hue='Outcome', element= 'step', fill=False)"
      ],
      "execution_count": 13,
      "outputs": [
        {
          "output_type": "execute_result",
          "data": {
            "text/plain": [
              "<matplotlib.axes._subplots.AxesSubplot at 0x7f4df009f990>"
            ]
          },
          "metadata": {},
          "execution_count": 13
        },
        {
          "output_type": "display_data",
          "data": {
            "image/png": "[encoded data removed]",
            "text/plain": [
              "<Figure size 720x864 with 1 Axes>"
            ]
          },
          "metadata": {
            "needs_background": "light"
          }
        }
      ]
    },
    {
      "cell_type": "markdown",
      "metadata": {
        "id": "RL2uzLsElFI2"
      },
      "source": [
        "Below is the correlation between the different features. "
      ]
    },
    {
      "cell_type": "code",
      "metadata": {
        "colab": {
          "base_uri": "https://localhost:8080/",
          "height": 348
        },
        "id": "NaawIVSzlFI3",
        "outputId": "7a89a10c-220f-4b59-9080-bce34e92a04d"
      },
      "source": [
        "df_Pima.corr()"
      ],
      "execution_count": 14,
      "outputs": [
        {
          "output_type": "execute_result",
          "data": {
            "text/html": [
              "<div>\n",
              "<style scoped>\n",
              "    .dataframe tbody tr th:only-of-type {\n",
              "        vertical-align: middle;\n",
              "    }\n",
              "\n",
              "    .dataframe tbody tr th {\n",
              "        vertical-align: top;\n",
              "    }\n",
              "\n",
              "    .dataframe thead th {\n",
              "        text-align: right;\n",
              "    }\n",
              "</style>\n",
              "<table border=\"1\" class=\"dataframe\">\n",
              "  <thead>\n",
              "    <tr style=\"text-align: right;\">\n",
              "      <th></th>\n",
              "      <th>Pregnancies</th>\n",
              "      <th>Glucose</th>\n",
              "      <th>BloodPressure</th>\n",
              "      <th>SkinThickness</th>\n",
              "      <th>Insulin</th>\n",
              "      <th>BMI</th>\n",
              "      <th>DiabetesPedigreeFunction</th>\n",
              "      <th>Age</th>\n",
              "      <th>Outcome</th>\n",
              "    </tr>\n",
              "  </thead>\n",
              "  <tbody>\n",
              "    <tr>\n",
              "      <th>Pregnancies</th>\n",
              "      <td>1.000000</td>\n",
              "      <td>0.130673</td>\n",
              "      <td>0.208954</td>\n",
              "      <td>0.094048</td>\n",
              "      <td>0.093515</td>\n",
              "      <td>0.024154</td>\n",
              "      <td>-0.033523</td>\n",
              "      <td>0.544341</td>\n",
              "      <td>0.221898</td>\n",
              "    </tr>\n",
              "    <tr>\n",
              "      <th>Glucose</th>\n",
              "      <td>0.130673</td>\n",
              "      <td>1.000000</td>\n",
              "      <td>0.224166</td>\n",
              "      <td>0.236498</td>\n",
              "      <td>0.497759</td>\n",
              "      <td>0.237257</td>\n",
              "      <td>0.138222</td>\n",
              "      <td>0.269009</td>\n",
              "      <td>0.497835</td>\n",
              "    </tr>\n",
              "    <tr>\n",
              "      <th>BloodPressure</th>\n",
              "      <td>0.208954</td>\n",
              "      <td>0.224166</td>\n",
              "      <td>1.000000</td>\n",
              "      <td>0.203377</td>\n",
              "      <td>0.099999</td>\n",
              "      <td>0.286583</td>\n",
              "      <td>-0.002203</td>\n",
              "      <td>0.324483</td>\n",
              "      <td>0.175151</td>\n",
              "    </tr>\n",
              "    <tr>\n",
              "      <th>SkinThickness</th>\n",
              "      <td>0.094048</td>\n",
              "      <td>0.236498</td>\n",
              "      <td>0.203377</td>\n",
              "      <td>1.000000</td>\n",
              "      <td>0.212719</td>\n",
              "      <td>0.565681</td>\n",
              "      <td>0.102614</td>\n",
              "      <td>0.135687</td>\n",
              "      <td>0.308571</td>\n",
              "    </tr>\n",
              "    <tr>\n",
              "      <th>Insulin</th>\n",
              "      <td>0.093515</td>\n",
              "      <td>0.497759</td>\n",
              "      <td>0.099999</td>\n",
              "      <td>0.212719</td>\n",
              "      <td>1.000000</td>\n",
              "      <td>0.231526</td>\n",
              "      <td>0.121710</td>\n",
              "      <td>0.165125</td>\n",
              "      <td>0.410787</td>\n",
              "    </tr>\n",
              "    <tr>\n",
              "      <th>BMI</th>\n",
              "      <td>0.024154</td>\n",
              "      <td>0.237257</td>\n",
              "      <td>0.286583</td>\n",
              "      <td>0.565681</td>\n",
              "      <td>0.231526</td>\n",
              "      <td>1.000000</td>\n",
              "      <td>0.152528</td>\n",
              "      <td>0.027622</td>\n",
              "      <td>0.315335</td>\n",
              "    </tr>\n",
              "    <tr>\n",
              "      <th>DiabetesPedigreeFunction</th>\n",
              "      <td>-0.033523</td>\n",
              "      <td>0.138222</td>\n",
              "      <td>-0.002203</td>\n",
              "      <td>0.102614</td>\n",
              "      <td>0.121710</td>\n",
              "      <td>0.152528</td>\n",
              "      <td>1.000000</td>\n",
              "      <td>0.033561</td>\n",
              "      <td>0.173844</td>\n",
              "    </tr>\n",
              "    <tr>\n",
              "      <th>Age</th>\n",
              "      <td>0.544341</td>\n",
              "      <td>0.269009</td>\n",
              "      <td>0.324483</td>\n",
              "      <td>0.135687</td>\n",
              "      <td>0.165125</td>\n",
              "      <td>0.027622</td>\n",
              "      <td>0.033561</td>\n",
              "      <td>1.000000</td>\n",
              "      <td>0.238356</td>\n",
              "    </tr>\n",
              "    <tr>\n",
              "      <th>Outcome</th>\n",
              "      <td>0.221898</td>\n",
              "      <td>0.497835</td>\n",
              "      <td>0.175151</td>\n",
              "      <td>0.308571</td>\n",
              "      <td>0.410787</td>\n",
              "      <td>0.315335</td>\n",
              "      <td>0.173844</td>\n",
              "      <td>0.238356</td>\n",
              "      <td>1.000000</td>\n",
              "    </tr>\n",
              "  </tbody>\n",
              "</table>\n",
              "</div>"
            ],
            "text/plain": [
              "                          Pregnancies   Glucose  ...       Age   Outcome\n",
              "Pregnancies                  1.000000  0.130673  ...  0.544341  0.221898\n",
              "Glucose                      0.130673  1.000000  ...  0.269009  0.497835\n",
              "BloodPressure                0.208954  0.224166  ...  0.324483  0.175151\n",
              "SkinThickness                0.094048  0.236498  ...  0.135687  0.308571\n",
              "Insulin                      0.093515  0.497759  ...  0.165125  0.410787\n",
              "BMI                          0.024154  0.237257  ...  0.027622  0.315335\n",
              "DiabetesPedigreeFunction    -0.033523  0.138222  ...  0.033561  0.173844\n",
              "Age                          0.544341  0.269009  ...  1.000000  0.238356\n",
              "Outcome                      0.221898  0.497835  ...  0.238356  1.000000\n",
              "\n",
              "[9 rows x 9 columns]"
            ]
          },
          "metadata": {},
          "execution_count": 14
        }
      ]
    },
    {
      "cell_type": "markdown",
      "metadata": {
        "id": "YoCPF3yElFI5"
      },
      "source": [
        "First step is to preprocess the features to scale. Since there are significant difference in the numbers for each feature, we want to make sure they don't scew the data. Using sklearn scale, I processed the features with the min/max method."
      ]
    },
    {
      "cell_type": "code",
      "metadata": {
        "colab": {
          "base_uri": "https://localhost:8080/"
        },
        "id": "Kk3e6SZglFI6",
        "outputId": "0e87b99d-268d-4e6f-af27-d051c7bc41b4"
      },
      "source": [
        "from sklearn.preprocessing import scale\n",
        "\n",
        "diabetes_labels = df_Pima['Outcome']\n",
        "diabetes_features = df_Pima[['Pregnancies', 'Glucose', 'SkinThickness', 'Insulin', 'BMI', 'Age']]\n",
        "\n",
        "scaled_features = scale(diabetes_features, axis=0)\n",
        "print(scaled_features)"
      ],
      "execution_count": 15,
      "outputs": [
        {
          "output_type": "stream",
          "name": "stdout",
          "text": [
            "[[ 0.63994726  0.85945808  0.64570209  0.56083978  0.16790636  1.4259954 ]\n",
            " [-0.84488505 -1.20465424 -0.02697724 -0.30067319 -0.85032783 -0.19067191]\n",
            " [ 1.23388019  2.00618715  0.42147564  0.56083978 -1.33035252 -0.10558415]\n",
            " ...\n",
            " [ 0.3429808  -0.02516149 -0.69965657 -0.50676061 -0.90851264 -0.27575966]\n",
            " [-0.84488505  0.13865695  0.42147564  0.56083978 -0.34121073  1.17073215]\n",
            " [-0.84488505 -0.94254474  0.1972492  -0.30067319 -0.29757212 -0.87137393]]\n"
          ]
        }
      ]
    },
    {
      "cell_type": "markdown",
      "metadata": {
        "id": "o6q5DlzTlFI7"
      },
      "source": [
        "Using train_test_split, the data was split into an 80/20 split. Six features were used in this split."
      ]
    },
    {
      "cell_type": "code",
      "metadata": {
        "id": "-LXOSydJlFI8"
      },
      "source": [
        "from sklearn.model_selection import train_test_split\n",
        "\n",
        "train_data, test_data, train_label, test_label = train_test_split(scaled_features, diabetes_labels, test_size=0.2, random_state =1)"
      ],
      "execution_count": 16,
      "outputs": []
    },
    {
      "cell_type": "markdown",
      "metadata": {
        "id": "kLDR84GTlFI9"
      },
      "source": [
        "We used K nearest neighbor as a classifier and tested a few different number of n_neighbor, but ended on 3 with favorable results."
      ]
    },
    {
      "cell_type": "code",
      "metadata": {
        "colab": {
          "base_uri": "https://localhost:8080/"
        },
        "id": "KiLaGq-MlFI-",
        "outputId": "48b7e749-d646-4a65-bc80-76660f0e9617"
      },
      "source": [
        "from sklearn.neighbors import KNeighborsClassifier\n",
        "\n",
        "classifier = KNeighborsClassifier(n_neighbors = 3)\n",
        "classifier.fit(train_data, train_label)\n",
        "knn_prediction = classifier.predict(test_data)\n",
        "classifier.score(test_data, test_label)"
      ],
      "execution_count": 17,
      "outputs": [
        {
          "output_type": "execute_result",
          "data": {
            "text/plain": [
              "0.8831168831168831"
            ]
          },
          "metadata": {},
          "execution_count": 17
        }
      ]
    },
    {
      "cell_type": "markdown",
      "metadata": {
        "id": "aLt13aiLlFJA"
      },
      "source": [
        "With the same six features, We ran a random forest classifier and limited the depth to 6 to help prevent overfitting."
      ]
    },
    {
      "cell_type": "code",
      "metadata": {
        "colab": {
          "base_uri": "https://localhost:8080/"
        },
        "id": "MegTp_HYlFJB",
        "outputId": "4c394ecc-62fd-474c-b033-f336b6075988"
      },
      "source": [
        "from sklearn.ensemble import RandomForestClassifier\n",
        "forest_classifier = RandomForestClassifier(n_estimators = 100, max_depth=6) \n",
        "forest_classifier.fit(train_data, train_label)\n",
        "forest_prediction = forest_classifier.predict(test_data)\n",
        "forest_classifier.score(test_data, test_label)"
      ],
      "execution_count": 18,
      "outputs": [
        {
          "output_type": "execute_result",
          "data": {
            "text/plain": [
              "0.8961038961038961"
            ]
          },
          "metadata": {},
          "execution_count": 18
        }
      ]
    },
    {
      "cell_type": "markdown",
      "metadata": {
        "id": "c9fbPDsdlFJC"
      },
      "source": [
        "Below are the K-nearest-neighbor metrics. Overall this did good with an F1 score of .83."
      ]
    },
    {
      "cell_type": "code",
      "metadata": {
        "colab": {
          "base_uri": "https://localhost:8080/"
        },
        "id": "nLeP5weflFJD",
        "outputId": "240edd2b-7f0b-40a5-f653-5532028ba49c"
      },
      "source": [
        "from sklearn.metrics import accuracy_score, recall_score, precision_score, f1_score\n",
        "print('KNN Accuracey is: ' +str(accuracy_score(test_label, knn_prediction)))\n",
        "print('KNN Precision score is ' + str(precision_score(test_label,knn_prediction)))\n",
        "print('KNN F1 score is ' + str(f1_score(test_label,knn_prediction)))"
      ],
      "execution_count": 19,
      "outputs": [
        {
          "output_type": "stream",
          "name": "stdout",
          "text": [
            "KNN Accuracey is: 0.8831168831168831\n",
            "KNN Precision score is 0.8627450980392157\n",
            "KNN F1 score is 0.8301886792452831\n"
          ]
        }
      ]
    },
    {
      "cell_type": "markdown",
      "metadata": {
        "id": "iNOYtFgulFJE"
      },
      "source": [
        "Below are the Random forest metrics. This was slightly more accurate, but wasn't significantly more precise. The F1 score was also .84."
      ]
    },
    {
      "cell_type": "code",
      "metadata": {
        "colab": {
          "base_uri": "https://localhost:8080/"
        },
        "id": "8-V-csbilFJG",
        "outputId": "e33f33b4-7c41-45cf-8ce0-8b9acb4c1dd7"
      },
      "source": [
        "print('Random forest Accuracey is: ' +str(accuracy_score(test_label,forest_prediction)))\n",
        "print('Random forest Precision score is ' + str(precision_score(test_label,forest_prediction)))\n",
        "print('Random forest F1 score is ' + str(f1_score(test_label,forest_prediction)))"
      ],
      "execution_count": 20,
      "outputs": [
        {
          "output_type": "stream",
          "name": "stdout",
          "text": [
            "Random forest Accuracey is: 0.8961038961038961\n",
            "Random forest Precision score is 0.8823529411764706\n",
            "Random forest F1 score is 0.8490566037735848\n"
          ]
        }
      ]
    },
    {
      "cell_type": "markdown",
      "metadata": {
        "id": "4Y5Ido3blFJH"
      },
      "source": [
        "We decided to reduce the number of features in an effort to gain more precision. We reduced the features to the top four correlations and reran the K-Nearest_Neighbor and Random Forest classifiers."
      ]
    },
    {
      "cell_type": "code",
      "metadata": {
        "id": "024sRMIvlFJJ"
      },
      "source": [
        "diabetes_labels2 = df_Pima['Outcome']\n",
        "diabetes_features2 = df_Pima[['Glucose', 'SkinThickness', 'Insulin', 'BMI']]\n",
        "\n",
        "scaled_features2 = scale(diabetes_features, axis=0)"
      ],
      "execution_count": 21,
      "outputs": []
    },
    {
      "cell_type": "code",
      "metadata": {
        "id": "iIhHIDYMlFJJ"
      },
      "source": [
        "train_data2, test_data2, train_label2, test_label2 = train_test_split(scaled_features2, diabetes_labels2, test_size=0.2, random_state =1)"
      ],
      "execution_count": 22,
      "outputs": []
    },
    {
      "cell_type": "code",
      "metadata": {
        "colab": {
          "base_uri": "https://localhost:8080/"
        },
        "id": "_v80sQ-VlFJK",
        "outputId": "521d2d19-f863-48e1-bc0f-1eb90c80d869"
      },
      "source": [
        "classifier2 = KNeighborsClassifier(n_neighbors = 3)\n",
        "classifier2.fit(train_data2, train_label2)\n",
        "classifier2.score(test_data2, test_label2)"
      ],
      "execution_count": 23,
      "outputs": [
        {
          "output_type": "execute_result",
          "data": {
            "text/plain": [
              "0.8831168831168831"
            ]
          },
          "metadata": {},
          "execution_count": 23
        }
      ]
    },
    {
      "cell_type": "code",
      "metadata": {
        "id": "6duoOmZClFJL"
      },
      "source": [
        "knn_prediction2 = classifier2.predict(test_data2)"
      ],
      "execution_count": 24,
      "outputs": []
    },
    {
      "cell_type": "markdown",
      "metadata": {
        "id": "UbKAyw0ClFJL"
      },
      "source": [
        "Below are the metrics for the K-Nearest_Neighbor. Again we limited it to 3 n_neighbor. Interestingly the results were the same. Suggesting that age and pregancies had no impact of the group becoming diabetic."
      ]
    },
    {
      "cell_type": "code",
      "metadata": {
        "colab": {
          "base_uri": "https://localhost:8080/"
        },
        "id": "jiGiWGzUlFJM",
        "outputId": "4b34cf04-ba4f-450b-a37a-d3e9c3a72f49"
      },
      "source": [
        "print('KNN2 Accuracey is: ' +str(accuracy_score(test_label2,knn_prediction2)))\n",
        "print('KNN2 Precision score is ' + str(precision_score(test_label2,knn_prediction2)))\n",
        "print('KNN2 F1 score is ' + str(f1_score(test_label2,knn_prediction2)))"
      ],
      "execution_count": 25,
      "outputs": [
        {
          "output_type": "stream",
          "name": "stdout",
          "text": [
            "KNN2 Accuracey is: 0.8831168831168831\n",
            "KNN2 Precision score is 0.8627450980392157\n",
            "KNN2 F1 score is 0.8301886792452831\n"
          ]
        }
      ]
    },
    {
      "cell_type": "code",
      "metadata": {
        "colab": {
          "base_uri": "https://localhost:8080/"
        },
        "id": "kxcya-BelFJN",
        "outputId": "f809287a-279d-4692-e496-55c0bcd1e683"
      },
      "source": [
        "forest_classifier2 = RandomForestClassifier(n_estimators = 75, max_depth=6) \n",
        "forest_classifier2.fit(train_data2, train_label2)\n",
        "forest_classifier2.score(test_data2, test_label2)"
      ],
      "execution_count": 26,
      "outputs": [
        {
          "output_type": "execute_result",
          "data": {
            "text/plain": [
              "0.8831168831168831"
            ]
          },
          "metadata": {},
          "execution_count": 26
        }
      ]
    },
    {
      "cell_type": "code",
      "metadata": {
        "id": "xgmKLhfRlFJP"
      },
      "source": [
        "predictions2 = forest_classifier2.predict(test_data2)"
      ],
      "execution_count": 27,
      "outputs": []
    },
    {
      "cell_type": "markdown",
      "metadata": {
        "id": "iuR-dDCllFJP"
      },
      "source": [
        "Below are the metrics for the Random Forest with only four features. The scores were slightly down with only four features, but not significant. The F1 score dropped to .82 instead of .84."
      ]
    },
    {
      "cell_type": "code",
      "metadata": {
        "colab": {
          "base_uri": "https://localhost:8080/"
        },
        "id": "mn1bTT1SlFJQ",
        "outputId": "f7712e96-deeb-4c2e-b962-cae6484f6d7f"
      },
      "source": [
        "print('Random forest2 Accuracey is: ' +str(accuracy_score(test_label2,predictions2 )))\n",
        "print('Random forest2 Precision score is ' + str(precision_score(test_label2,predictions2 )))\n",
        "print('Random forest2 F1 score is ' + str(f1_score(test_label2,predictions2 )))"
      ],
      "execution_count": 28,
      "outputs": [
        {
          "output_type": "stream",
          "name": "stdout",
          "text": [
            "Random forest2 Accuracey is: 0.8831168831168831\n",
            "Random forest2 Precision score is 0.8627450980392157\n",
            "Random forest2 F1 score is 0.8301886792452831\n"
          ]
        }
      ]
    },
    {
      "cell_type": "code",
      "metadata": {
        "id": "MQiuyMp0lFJQ"
      },
      "source": [
        ""
      ],
      "execution_count": 28,
      "outputs": []
    }
  ]
}